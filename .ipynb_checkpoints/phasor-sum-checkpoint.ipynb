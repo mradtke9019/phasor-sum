{
 "cells": [
  {
   "cell_type": "code",
   "execution_count": 5,
   "id": "3bcf962f",
   "metadata": {},
   "outputs": [],
   "source": [
    "import random\n",
    "import math\n",
    "import matplotlib.pyplot as plt\n",
    "import cmath"
   ]
  },
  {
   "cell_type": "code",
   "execution_count": 40,
   "id": "35610e60",
   "metadata": {},
   "outputs": [],
   "source": [
    "def GetRandomPhase():\n",
    "    return random.uniform(0,2 * math.pi)"
   ]
  },
  {
   "cell_type": "code",
   "execution_count": 41,
   "id": "07388d1f",
   "metadata": {},
   "outputs": [],
   "source": [
    "def GetRandomAmplitude(AmplitudeMax = 1):\n",
    "    return random.uniform(0, AmplitudeMax)"
   ]
  },
  {
   "cell_type": "code",
   "execution_count": 42,
   "id": "cedfa48d",
   "metadata": {},
   "outputs": [],
   "source": [
    "class Phasor:\n",
    "    def __init__(self, Amplitude = None, Phase = None):\n",
    "        if Amplitude is None:\n",
    "            self.Amplitude = GetRandomAmplitude()\n",
    "        else:\n",
    "            self.Amplitude = Amplitude\n",
    "        if Phase is None:\n",
    "            self.Phase = GetRandomPhase()\n",
    "        else:\n",
    "            self.Phase = Phase\n",
    "    def value(self):\n",
    "        return self.Amplitude * (math.e ** complex(0,self.Phase))"
   ]
  },
  {
   "cell_type": "code",
   "execution_count": 69,
   "id": "6ecde133",
   "metadata": {},
   "outputs": [],
   "source": [
    "def AddPhasors(p1,p2):\n",
    "    return p1.value() + p2.value()"
   ]
  },
  {
   "cell_type": "code",
   "execution_count": 77,
   "id": "d05a11e0",
   "metadata": {},
   "outputs": [],
   "source": [
    "def GenerateRandomPhasor():\n",
    "    return Phasor()"
   ]
  },
  {
   "cell_type": "code",
   "execution_count": 78,
   "id": "01854fb6",
   "metadata": {},
   "outputs": [],
   "source": [
    "def SumPhasors(phasors):\n",
    "    result = complex(0,0)\n",
    "    for phasor in phasors:\n",
    "        result += phasor.value()\n",
    "    return result.real / (len(phasors) ** (1/2))"
   ]
  },
  {
   "cell_type": "code",
   "execution_count": 79,
   "id": "5ae973eb",
   "metadata": {},
   "outputs": [],
   "source": [
    "phasorSums = []\n",
    "for j in range(19200):\n",
    "    phasors = []\n",
    "    for i in range(1000):\n",
    "        phasors.append(GenerateRandomPhasor())\n",
    "    pSum = SumPhasors(phasors)\n",
    "    phasorSums.append(pSum)"
   ]
  },
  {
   "cell_type": "code",
   "execution_count": 80,
   "id": "ce018240",
   "metadata": {},
   "outputs": [
    {
     "name": "stdout",
     "output_type": "stream",
     "text": [
      "19200\n"
     ]
    },
    {
     "data": {
      "image/png": "[encoded data removed]",
      "text/plain": [
       "<Figure size 640x480 with 1 Axes>"
      ]
     },
     "metadata": {},
     "output_type": "display_data"
    }
   ],
   "source": [
    "print(len(set(phasorSums)))\n",
    "plt.hist(phasorSums, bins=len(set(phasorSums)))\n",
    "plt.show()"
   ]
  }
 ],
 "metadata": {
  "kernelspec": {
   "display_name": "Python 3 (ipykernel)",
   "language": "python",
   "name": "python3"
  },
  "language_info": {
   "codemirror_mode": {
    "name": "ipython",
    "version": 3
   },
   "file_extension": ".py",
   "mimetype": "text/x-python",
   "name": "python",
   "nbconvert_exporter": "python",
   "pygments_lexer": "ipython3",
   "version": "3.11.0"
  }
 },
 "nbformat": 4,
 "nbformat_minor": 5
}
