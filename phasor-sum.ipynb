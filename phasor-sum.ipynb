{
 "cells": [
  {
   "cell_type": "code",
   "execution_count": 2,
   "id": "3bcf962f",
   "metadata": {},
   "outputs": [],
   "source": [
    "import random\n",
    "import math\n",
    "import matplotlib.pyplot as plt\n",
    "import cmath"
   ]
  },
  {
   "cell_type": "code",
   "execution_count": 3,
   "id": "35610e60",
   "metadata": {},
   "outputs": [],
   "source": [
    "def GetRandomPhase():\n",
    "    return random.uniform(0,2 * math.pi)"
   ]
  },
  {
   "cell_type": "code",
   "execution_count": 4,
   "id": "07388d1f",
   "metadata": {},
   "outputs": [],
   "source": [
    "def GetRandomAmplitude(AmplitudeMax = 1):\n",
    "    return random.uniform(0, AmplitudeMax)"
   ]
  },
  {
   "cell_type": "code",
   "execution_count": 5,
   "id": "cedfa48d",
   "metadata": {},
   "outputs": [],
   "source": [
    "class Phasor:\n",
    "    def __init__(self, Amplitude = None, Phase = None):\n",
    "        if Amplitude is None:\n",
    "            self.Amplitude = GetRandomAmplitude()\n",
    "        else:\n",
    "            self.Amplitude = Amplitude\n",
    "        if Phase is None:\n",
    "            self.Phase = GetRandomPhase()\n",
    "        else:\n",
    "            self.Phase = Phase\n",
    "    def value(self):\n",
    "        return self.Amplitude * (math.e ** complex(0,self.Phase))"
   ]
  },
  {
   "cell_type": "code",
   "execution_count": 6,
   "id": "6ecde133",
   "metadata": {},
   "outputs": [],
   "source": [
    "def AddPhasors(p1,p2):\n",
    "    return p1.value() + p2.value()"
   ]
  },
  {
   "cell_type": "code",
   "execution_count": 7,
   "id": "d05a11e0",
   "metadata": {},
   "outputs": [],
   "source": [
    "def GenerateRandomPhasor():\n",
    "    return Phasor()"
   ]
  },
  {
   "cell_type": "code",
   "execution_count": 11,
   "id": "01854fb6",
   "metadata": {},
   "outputs": [],
   "source": [
    "def SumPhasors(phasors):\n",
    "    result = complex(0,0)\n",
    "    for phasor in phasors:\n",
    "        result += phasor.value()\n",
    "    return (result.real) ** 2"
   ]
  },
  {
   "cell_type": "code",
   "execution_count": 16,
   "id": "5ae973eb",
   "metadata": {},
   "outputs": [],
   "source": [
    "phasorSums = []\n",
    "for j in range(19200):\n",
    "    phasors = []\n",
    "    for i in range(1000):\n",
    "        phasors.append(GenerateRandomPhasor())\n",
    "    pSum = SumPhasors(phasors)\n",
    "    phasorSums.append(pSum)"
   ]
  },
  {
   "cell_type": "code",
   "execution_count": 18,
   "id": "3f2b9e54",
   "metadata": {},
   "outputs": [],
   "source": [
    "uniques = []\n",
    "for s in phasorSums:\n",
    "    uniques.append(math.floor(s))"
   ]
  },
  {
   "cell_type": "code",
   "execution_count": 22,
   "id": "ce018240",
   "metadata": {},
   "outputs": [
    {
     "name": "stdout",
     "output_type": "stream",
     "text": [
      "1155\n"
     ]
    },
    {
     "data": {
      "image/png": "[encoded data removed]",
      "text/plain": [
       "<Figure size 640x480 with 1 Axes>"
      ]
     },
     "metadata": {},
     "output_type": "display_data"
    }
   ],
   "source": [
    "print(len(set(uniques)))\n",
    "plt.hist(phasorSums, bins=len(set(uniques)))\n",
    "plt.title(\"Phasor Sums\")\n",
    "plt.ylabel(\"Intensity\")\n",
    "plt.xlabel(\"Count\")\n",
    "plt.xlim(-1,1000)\n",
    "plt.show()"
   ]
  },
  {
   "cell_type": "code",
   "execution_count": 14,
   "id": "62bb514a",
   "metadata": {},
   "outputs": [
    {
     "data": {
      "text/plain": [
       "3145.7819653121455"
      ]
     },
     "execution_count": 14,
     "metadata": {},
     "output_type": "execute_result"
    }
   ],
   "source": [
    "max(phasorSums)"
   ]
  },
  {
   "cell_type": "code",
   "execution_count": null,
   "id": "54a9c02f",
   "metadata": {},
   "outputs": [],
   "source": []
  }
 ],
 "metadata": {
  "kernelspec": {
   "display_name": "Python 3 (ipykernel)",
   "language": "python",
   "name": "python3"
  },
  "language_info": {
   "codemirror_mode": {
    "name": "ipython",
    "version": 3
   },
   "file_extension": ".py",
   "mimetype": "text/x-python",
   "name": "python",
   "nbconvert_exporter": "python",
   "pygments_lexer": "ipython3",
   "version": "3.11.0"
  }
 },
 "nbformat": 4,
 "nbformat_minor": 5
}
