{
 "cells": [
  {
   "cell_type": "code",
   "execution_count": 55,
   "id": "3bcf962f",
   "metadata": {},
   "outputs": [],
   "source": [
    "import random\n",
    "import math\n",
    "import matplotlib.pyplot as plt\n",
    "import cmath"
   ]
  },
  {
   "cell_type": "code",
   "execution_count": 32,
   "id": "35610e60",
   "metadata": {},
   "outputs": [],
   "source": [
    "def GetRandomPhase():\n",
    "    return random.uniform(0,2 * math.pi)"
   ]
  },
  {
   "cell_type": "code",
   "execution_count": 33,
   "id": "07388d1f",
   "metadata": {},
   "outputs": [],
   "source": [
    "def GetRandomAmplitude(AmplitudeMax = 1):\n",
    "    return random.uniform(0, AmplitudeMax)"
   ]
  },
  {
   "cell_type": "code",
   "execution_count": 73,
   "id": "d68bcded",
   "metadata": {},
   "outputs": [],
   "source": [
    "def AddPhasors(p1,p2):\n",
    "    result = Phasor()\n",
    "    return p1.value() + p2.value()"
   ]
  },
  {
   "cell_type": "code",
   "execution_count": 74,
   "id": "cedfa48d",
   "metadata": {},
   "outputs": [],
   "source": [
    "class Phasor:\n",
    "    def __init__(self):\n",
    "        self.Amplitude = GetRandomAmplitude()\n",
    "        self.Phase = GetRandomPhase()\n",
    "    def value(self):\n",
    "        return self.Amplitude * (math.e ** complex(self.Phase,1))"
   ]
  },
  {
   "cell_type": "code",
   "execution_count": 75,
   "id": "d05a11e0",
   "metadata": {},
   "outputs": [],
   "source": [
    "def GenerateRandomPhasor():\n",
    "    return Phasor()"
   ]
  },
  {
   "cell_type": "code",
   "execution_count": 76,
   "id": "01854fb6",
   "metadata": {},
   "outputs": [],
   "source": [
    "def SumPhasors(phasors):\n",
    "    result = None\n",
    "    for phasor in phasors:\n",
    "        result = AddPhasors(result, phasor)\n",
    "    return result"
   ]
  },
  {
   "cell_type": "code",
   "execution_count": 77,
   "id": "0d7171e0",
   "metadata": {},
   "outputs": [
    {
     "name": "stdout",
     "output_type": "stream",
     "text": [
      "(56.81101825483446+88.47791867558985j)\n"
     ]
    }
   ],
   "source": [
    "result=AddPhasors(Phasor(),Phasor())\n",
    "print(result)"
   ]
  },
  {
   "cell_type": "code",
   "execution_count": 63,
   "id": "5ae973eb",
   "metadata": {},
   "outputs": [
    {
     "name": "stdout",
     "output_type": "stream",
     "text": [
      "1\n"
     ]
    }
   ],
   "source": [
    "phasorSums = []\n",
    "for j in range(19200):\n",
    "    phasors = []\n",
    "    for i in range(1000):\n",
    "        phasors.append(GenerateRandomPhasor())\n",
    "    pSum = SumPhasors(phasors)\n",
    "    phasorSums.append(pSum)"
   ]
  },
  {
   "cell_type": "code",
   "execution_count": 64,
   "id": "ce018240",
   "metadata": {},
   "outputs": [
    {
     "name": "stdout",
     "output_type": "stream",
     "text": [
      "1\n"
     ]
    },
    {
     "data": {
      "image/png": "[encoded data removed]",
      "text/plain": [
       "<Figure size 640x480 with 1 Axes>"
      ]
     },
     "metadata": {},
     "output_type": "display_data"
    }
   ],
   "source": [
    "print(len(set(phasorSums)))\n",
    "plt.hist(phasorSums, bins=len(set(phasorSums)))\n",
    "plt.show()"
   ]
  },
  {
   "cell_type": "code",
   "execution_count": 78,
   "id": "20ab9811",
   "metadata": {},
   "outputs": [
    {
     "name": "stdout",
     "output_type": "stream",
     "text": [
      "(1+1j)\n"
     ]
    }
   ],
   "source": [
    "# Python code to demonstrate the working of\n",
    "# phase()\n",
    "  \n",
    "# importing \"cmath\" for complex number operations\n",
    "\n",
    "  \n",
    "# Initializing real numbers\n",
    "x = 1.0\n",
    "y = 1.0\n",
    "  \n",
    "# converting x and y into complex number\n",
    "z = complex(x,y);\n",
    "print(z)"
   ]
  },
  {
   "cell_type": "code",
   "execution_count": null,
   "id": "d9c76c02",
   "metadata": {},
   "outputs": [],
   "source": [
    "p"
   ]
  }
 ],
 "metadata": {
  "kernelspec": {
   "display_name": "Python 3 (ipykernel)",
   "language": "python",
   "name": "python3"
  },
  "language_info": {
   "codemirror_mode": {
    "name": "ipython",
    "version": 3
   },
   "file_extension": ".py",
   "mimetype": "text/x-python",
   "name": "python",
   "nbconvert_exporter": "python",
   "pygments_lexer": "ipython3",
   "version": "3.11.0"
  }
 },
 "nbformat": 4,
 "nbformat_minor": 5
}
